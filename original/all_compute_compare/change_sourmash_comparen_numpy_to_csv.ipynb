{
 "cells": [
  {
   "cell_type": "code",
   "execution_count": 1,
   "metadata": {
    "collapsed": true
   },
   "outputs": [],
   "source": [
    "import numpy\n",
    "from sourmash_lib import fig\n",
    "import pylab\n",
    "import glob"
   ]
  },
  {
   "cell_type": "code",
   "execution_count": 2,
   "metadata": {
    "collapsed": false
   },
   "outputs": [
    {
     "name": "stdout",
     "output_type": "stream",
     "text": [
      "compared.18.20000\n",
      "compared.18.40000\n",
      "compared.18.60000\n",
      "compared.18.80000\n",
      "compared.27.20000\n",
      "compared.27.40000\n",
      "compared.27.60000\n",
      "compared.27.80000\n",
      "compared.36.20000\n",
      "compared.36.40000\n",
      "compared.36.60000\n",
      "compared.36.80000\n"
     ]
    }
   ],
   "source": [
    "for i in glob.glob('compared*'):\n",
    "    if i.endswith(\"labels.txt\") or i.endswith(\".csv\"):\n",
    "        continue\n",
    "    print i\n",
    "    D, labels = fig.load_matrix_and_labels(i)\n",
    "    D = (D + D.T) / 2.0\n",
    "    numpy.savetxt(\"{}.csv\".format(i), D, delimiter=\",\")"
   ]
  },
  {
   "cell_type": "code",
   "execution_count": null,
   "metadata": {
    "collapsed": true
   },
   "outputs": [],
   "source": []
  }
 ],
 "metadata": {
  "anaconda-cloud": {},
  "kernelspec": {
   "display_name": "Python [conda root]",
   "language": "python",
   "name": "conda-root-py"
  },
  "language_info": {
   "codemirror_mode": {
    "name": "ipython",
    "version": 2
   },
   "file_extension": ".py",
   "mimetype": "text/x-python",
   "name": "python",
   "nbconvert_exporter": "python",
   "pygments_lexer": "ipython2",
   "version": "2.7.12"
  }
 },
 "nbformat": 4,
 "nbformat_minor": 1
}
